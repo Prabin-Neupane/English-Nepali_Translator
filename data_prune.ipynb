{
 "cells": [
  {
   "cell_type": "code",
   "execution_count": 3,
   "id": "8e8442b4",
   "metadata": {},
   "outputs": [
    {
     "name": "stdout",
     "output_type": "stream",
     "text": [
      "                                                    English  \\\n",
      "0         And, the league, which will be on a round-robi...   \n",
      "1         The Madhesi Front is supporting the strike in ...   \n",
      "2         Relics and music play an important role in per...   \n",
      "3                                      I cannot support it.   \n",
      "4         In today's third hour, let us also discuss the...   \n",
      "...                                                     ...   \n",
      "29997506  \"Jay Henriques notes that the latin is remarka...   \n",
      "29997507  Coach Maharjan is ready to accept the fact tha...   \n",
      "29997508  Supreme Court begins hearing on case against d...   \n",
      "29997509     It is fixed directly to the exterior interior.   \n",
      "29997510         Driverless Cars Made In India - With Video   \n",
      "\n",
      "                                                     Nepali  \n",
      "0         र, राउण्ड रोविनको आधारमा हुने लिग ६ महिना सञ्च...  \n",
      "1         मधेशी मोर्चाले आह्वान गरेको ३१ साउनको हड्तालमा...  \n",
      "2         पिरियड ड्रामा फिल्ममा रिलिक्स र म्युजिकको अहम ...  \n",
      "3                         त्यसलाई मैले समर्थन गर्न सक्दिनँ।  \n",
      "4         आजको तेस्रो घन्टीमा कोरोना भाइरसका कारण उत्पन्...  \n",
      "...                                                     ...  \n",
      "29997506  \" जे हेनरिक्सले टिप्पणी गरे कि ल्याटटिन उल्लेख...  \n",
      "29997507  प्रशिक्षक महर्जन एउटा तथ्य भने मान्न तयार छन्,...  \n",
      "29997508  प्रतिनिधि सभा विघटनविरूद्धको मुद्दामा सर्वोच्च...  \n",
      "29997509                  यो सिधै बाह्य भित्रीमा निश्चित छ।  \n",
      "29997510    भारतमा बन्यो बिना ड्राईभर चल्ने कार-भिडियो सहित  \n",
      "\n",
      "[29997511 rows x 2 columns]\n"
     ]
    }
   ],
   "source": [
    "import pandas as pd\n",
    "\n",
    "# Read the contents of the files\n",
    "with open('english.txt', 'r', encoding='utf-8') as eng_file:\n",
    "    english_lines = eng_file.readlines()\n",
    "\n",
    "with open('nepali.txt', 'r', encoding='utf-8') as nep_file:\n",
    "    nepali_lines = nep_file.readlines()\n",
    "\n",
    "# Strip any leading/trailing whitespace characters\n",
    "english_lines = [line.strip() for line in english_lines]\n",
    "nepali_lines = [line.strip() for line in nepali_lines]\n",
    "\n",
    "# Create a DataFrame\n",
    "df = pd.DataFrame({\n",
    "    'English': english_lines,\n",
    "    'Nepali': nepali_lines\n",
    "})\n",
    "\n",
    "# Display the DataFrame\n",
    "print(df)\n"
   ]
  },
  {
   "cell_type": "markdown",
   "id": "56d28565",
   "metadata": {},
   "source": [
    "pwd"
   ]
  },
  {
   "cell_type": "code",
   "execution_count": 4,
   "id": "d7e6b9da",
   "metadata": {},
   "outputs": [
    {
     "data": {
      "text/html": [
       "<div>\n",
       "<style scoped>\n",
       "    .dataframe tbody tr th:only-of-type {\n",
       "        vertical-align: middle;\n",
       "    }\n",
       "\n",
       "    .dataframe tbody tr th {\n",
       "        vertical-align: top;\n",
       "    }\n",
       "\n",
       "    .dataframe thead th {\n",
       "        text-align: right;\n",
       "    }\n",
       "</style>\n",
       "<table border=\"1\" class=\"dataframe\">\n",
       "  <thead>\n",
       "    <tr style=\"text-align: right;\">\n",
       "      <th></th>\n",
       "      <th>English</th>\n",
       "      <th>Nepali</th>\n",
       "    </tr>\n",
       "  </thead>\n",
       "  <tbody>\n",
       "    <tr>\n",
       "      <th>0</th>\n",
       "      <td>And, the league, which will be on a round-robi...</td>\n",
       "      <td>र, राउण्ड रोविनको आधारमा हुने लिग ६ महिना सञ्च...</td>\n",
       "    </tr>\n",
       "    <tr>\n",
       "      <th>1</th>\n",
       "      <td>The Madhesi Front is supporting the strike in ...</td>\n",
       "      <td>मधेशी मोर्चाले आह्वान गरेको ३१ साउनको हड्तालमा...</td>\n",
       "    </tr>\n",
       "    <tr>\n",
       "      <th>2</th>\n",
       "      <td>Relics and music play an important role in per...</td>\n",
       "      <td>पिरियड ड्रामा फिल्ममा रिलिक्स र म्युजिकको अहम ...</td>\n",
       "    </tr>\n",
       "    <tr>\n",
       "      <th>3</th>\n",
       "      <td>I cannot support it.</td>\n",
       "      <td>त्यसलाई मैले समर्थन गर्न सक्दिनँ।</td>\n",
       "    </tr>\n",
       "    <tr>\n",
       "      <th>4</th>\n",
       "      <td>In today's third hour, let us also discuss the...</td>\n",
       "      <td>आजको तेस्रो घन्टीमा कोरोना भाइरसका कारण उत्पन्...</td>\n",
       "    </tr>\n",
       "  </tbody>\n",
       "</table>\n",
       "</div>"
      ],
      "text/plain": [
       "                                             English  \\\n",
       "0  And, the league, which will be on a round-robi...   \n",
       "1  The Madhesi Front is supporting the strike in ...   \n",
       "2  Relics and music play an important role in per...   \n",
       "3                               I cannot support it.   \n",
       "4  In today's third hour, let us also discuss the...   \n",
       "\n",
       "                                              Nepali  \n",
       "0  र, राउण्ड रोविनको आधारमा हुने लिग ६ महिना सञ्च...  \n",
       "1  मधेशी मोर्चाले आह्वान गरेको ३१ साउनको हड्तालमा...  \n",
       "2  पिरियड ड्रामा फिल्ममा रिलिक्स र म्युजिकको अहम ...  \n",
       "3                  त्यसलाई मैले समर्थन गर्न सक्दिनँ।  \n",
       "4  आजको तेस्रो घन्टीमा कोरोना भाइरसका कारण उत्पन्...  "
      ]
     },
     "execution_count": 4,
     "metadata": {},
     "output_type": "execute_result"
    }
   ],
   "source": [
    "df.head()"
   ]
  },
  {
   "cell_type": "code",
   "execution_count": 5,
   "id": "81ff1e21",
   "metadata": {},
   "outputs": [],
   "source": [
    "assert len(english_lines) == len(nepali_lines), \"The files have different numbers of lines!\""
   ]
  },
  {
   "cell_type": "code",
   "execution_count": 6,
   "id": "f68225aa",
   "metadata": {},
   "outputs": [],
   "source": [
    "import random\n",
    "\n",
    "# Combine the sentences into pairs\n",
    "sentence_pairs = list(zip(english_lines, nepali_lines))\n",
    "\n",
    "# Randomly sample 80,000 sentence pairs\n",
    "sampled_pairs = random.sample(sentence_pairs, 100000)\n",
    "\n",
    "# Separate the sampled pairs back into English and Nepali lists\n",
    "english_sampled, nepali_sampled = zip(*sampled_pairs)\n",
    "\n",
    "\n",
    "# Create a DataFrame\n",
    "df = pd.DataFrame({\n",
    "    'English': english_lines,\n",
    "    'Nepali': nepali_lines\n",
    "})\n",
    "\n",
    "\n",
    "# Optionally, save the sampled DataFrame to a CSV file\n",
    "df.to_csv('sampled_100k_sentences.csv', index=False)"
   ]
  },
  {
   "cell_type": "code",
   "execution_count": null,
   "id": "5936ec0c",
   "metadata": {},
   "outputs": [],
   "source": []
  },
  {
   "cell_type": "code",
   "execution_count": 9,
   "id": "6baebc4e",
   "metadata": {},
   "outputs": [
    {
     "data": {
      "text/plain": [
       "(29997511, 2)"
      ]
     },
     "execution_count": 9,
     "metadata": {},
     "output_type": "execute_result"
    }
   ],
   "source": [
    "df.shape"
   ]
  },
  {
   "cell_type": "code",
   "execution_count": 7,
   "id": "b44121d1",
   "metadata": {},
   "outputs": [
    {
     "data": {
      "text/plain": [
       "False"
      ]
     },
     "execution_count": 7,
     "metadata": {},
     "output_type": "execute_result"
    }
   ],
   "source": [
    "import torch\n",
    "torch.cuda.is_available()"
   ]
  },
  {
   "cell_type": "code",
   "execution_count": 10,
   "id": "17468070",
   "metadata": {},
   "outputs": [],
   "source": [
    "df_pruned = pd.DataFrame({\n",
    "    'English': english_sampled,\n",
    "    'Nepali': nepali_sampled\n",
    "})"
   ]
  },
  {
   "cell_type": "code",
   "execution_count": 12,
   "id": "7e9b05bd",
   "metadata": {},
   "outputs": [],
   "source": [
    "df_pruned.to_csv('sampled_100k_after_encoding.csv', index=False)"
   ]
  },
  {
   "cell_type": "code",
   "execution_count": 17,
   "id": "8235321e",
   "metadata": {},
   "outputs": [
    {
     "data": {
      "text/plain": [
       "(100000, 2)"
      ]
     },
     "execution_count": 17,
     "metadata": {},
     "output_type": "execute_result"
    }
   ],
   "source": [
    "df_pruned.shape"
   ]
  },
  {
   "cell_type": "code",
   "execution_count": 18,
   "id": "8aac6c74",
   "metadata": {},
   "outputs": [
    {
     "name": "stdout",
     "output_type": "stream",
     "text": [
      "<class 'pandas.core.frame.DataFrame'>\n",
      "RangeIndex: 100000 entries, 0 to 99999\n",
      "Data columns (total 2 columns):\n",
      " #   Column   Non-Null Count   Dtype \n",
      "---  ------   --------------   ----- \n",
      " 0   English  100000 non-null  object\n",
      " 1   Nepali   100000 non-null  object\n",
      "dtypes: object(2)\n",
      "memory usage: 1.5+ MB\n"
     ]
    }
   ],
   "source": [
    "df_pruned.info()"
   ]
  },
  {
   "cell_type": "code",
   "execution_count": 16,
   "id": "83cce3a1",
   "metadata": {},
   "outputs": [
    {
     "name": "stdout",
     "output_type": "stream",
     "text": [
      "Is CUDA available:  False\n"
     ]
    }
   ],
   "source": [
    "print(\"Is CUDA available: \", torch.cuda.is_available())\n"
   ]
  },
  {
   "cell_type": "code",
   "execution_count": 13,
   "id": "f1777eeb",
   "metadata": {},
   "outputs": [
    {
     "data": {
      "text/plain": [
       "'2.2.0'"
      ]
     },
     "execution_count": 13,
     "metadata": {},
     "output_type": "execute_result"
    }
   ],
   "source": [
    "torch.__version__"
   ]
  },
  {
   "cell_type": "code",
   "execution_count": 14,
   "id": "1aeb445b",
   "metadata": {},
   "outputs": [],
   "source": [
    "import torch"
   ]
  },
  {
   "cell_type": "code",
   "execution_count": 19,
   "id": "cc6062d7",
   "metadata": {},
   "outputs": [],
   "source": [
    "\n",
    "\n",
    "# Save English sentences to a file\n",
    "with open('sampled_english.txt', 'w', encoding='utf-8') as eng_file:\n",
    "    for sentence in english_sampled:\n",
    "        eng_file.write(sentence + '\\n')\n",
    "\n",
    "# Save Nepali sentences to a file\n",
    "with open('sampled_nepali.txt', 'w', encoding='utf-8') as nep_file:\n",
    "    for sentence in nepali_sampled:\n",
    "        nep_file.write(sentence + '\\n')\n"
   ]
  },
  {
   "cell_type": "code",
   "execution_count": null,
   "id": "39e9605e",
   "metadata": {},
   "outputs": [],
   "source": []
  }
 ],
 "metadata": {
  "kernelspec": {
   "display_name": "Python 3",
   "language": "python",
   "name": "python3"
  },
  "language_info": {
   "codemirror_mode": {
    "name": "ipython",
    "version": 3
   },
   "file_extension": ".py",
   "mimetype": "text/x-python",
   "name": "python",
   "nbconvert_exporter": "python",
   "pygments_lexer": "ipython3",
   "version": "3.8.8"
  }
 },
 "nbformat": 4,
 "nbformat_minor": 5
}
